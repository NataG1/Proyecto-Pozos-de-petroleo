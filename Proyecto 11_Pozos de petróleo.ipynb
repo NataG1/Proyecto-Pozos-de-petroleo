{
 "cells": [
  {
   "cell_type": "markdown",
   "metadata": {},
   "source": [
    "\n",
    "**Comentario del Revisor**\n",
    "\n",
    "Hola!\n",
    "\n",
    "Soy Juan Manuel Romero, pero siéntete libre de llamarme Juanma. Soy code reviewer en Tripleten y hoy estaré revisando tu entrega.\n",
    "\n",
    "Para simular la dinámica de un ambiente de trabajo, si veo algún error, en primer instancia solo los señalaré, dándote la oportunidad de encontrarlos y corregirlos por tu cuenta. En un trabajo real, el líder de tu equipo hará una dinámica similar. En caso de que no puedas resolver la tarea, te daré una información más precisa en la próxima revisión. \n",
    "\n",
    "Solo un aviso rápido: cuando estés revisando el proyecto, por favor deja mis comentarios originales tal como están. De esta manera, podemos seguir fácilmente el progreso y asegurarnos de que no se nos pase nada por alto. Y, si realizas algún cambio basado en mis comentarios, sería genial si pudieras resaltar esas actualizaciones para que se destaquen.\n",
    "\n",
    "Puedes encontrar mis comentarios en cajas verdes, amarillas o rojas como estas:\n",
    "\n",
    "<div class=\"alert alert-block alert-success\"> \n",
    "<b>Comentario del Revisor</b> <a class=\"tocSkip\"></a>\n",
    "\n",
    "Éxito. Todo se ha hecho correctamente.\n",
    "\n",
    "</div>\n",
    "\n",
    "\n",
    "<div class=\"alert alert-block alert-warning\"> \n",
    "<b>Comentario del Revisor</b> <a class=\"tocSkip\"></a>\n",
    "\n",
    "Observaciones. Algunas recomendaciones.\n",
    "\n",
    "</div> \n",
    "\n",
    "\n",
    "<div class=\"alert alert-block alert-danger\">\n",
    "<b>Comentario del Revisor</b> <a class=\"tocSkip\"></a>\n",
    "\n",
    "Requiere corrección. El bloque requiere algunas correcciones. El trabajo no puede ser aceptado con los comentarios en rojo.\n",
    "\n",
    "</div>\n",
    "\n",
    "Puedes responderme usando esto:\n",
    "\n",
    "<div class=\"alert alert-block alert-info\"> <b>Respuesta del estudiante.</b> <a class=\"tocSkip\"></a> </div>"
   ]
  },
  {
   "cell_type": "code",
   "execution_count": null,
   "metadata": {},
   "outputs": [],
   "source": []
  },
  {
   "cell_type": "markdown",
   "metadata": {},
   "source": [
    "\n",
    "<div class=\"alert alert-block alert-success\"> \n",
    "<b>Comentario del Revisor #1</b> <a class=\"tocSkip\"></a>\n",
    "\n",
    "Felicidades Natalia! Tu trabajo es excelente \n",
    "\n",
    "Has completado todos los items necesarios para aprobar la entrega.\n",
    "\n",
    "</div>"
   ]
  },
  {
   "cell_type": "markdown",
   "metadata": {},
   "source": [
    "# Proyecto 11_Pozos de petróleo"
   ]
  },
  {
   "cell_type": "markdown",
   "metadata": {},
   "source": [
    "# 1. Preparación de los datos"
   ]
  },
  {
   "cell_type": "code",
   "execution_count": 6,
   "metadata": {},
   "outputs": [
    {
     "name": "stdout",
     "output_type": "stream",
     "text": [
      "<class 'pandas.core.frame.DataFrame'>\n",
      "RangeIndex: 100000 entries, 0 to 99999\n",
      "Data columns (total 5 columns):\n",
      " #   Column   Non-Null Count   Dtype  \n",
      "---  ------   --------------   -----  \n",
      " 0   id       100000 non-null  object \n",
      " 1   f0       100000 non-null  float64\n",
      " 2   f1       100000 non-null  float64\n",
      " 3   f2       100000 non-null  float64\n",
      " 4   product  100000 non-null  float64\n",
      "dtypes: float64(4), object(1)\n",
      "memory usage: 3.8+ MB\n",
      "<class 'pandas.core.frame.DataFrame'>\n",
      "RangeIndex: 100000 entries, 0 to 99999\n",
      "Data columns (total 5 columns):\n",
      " #   Column   Non-Null Count   Dtype  \n",
      "---  ------   --------------   -----  \n",
      " 0   id       100000 non-null  object \n",
      " 1   f0       100000 non-null  float64\n",
      " 2   f1       100000 non-null  float64\n",
      " 3   f2       100000 non-null  float64\n",
      " 4   product  100000 non-null  float64\n",
      "dtypes: float64(4), object(1)\n",
      "memory usage: 3.8+ MB\n",
      "<class 'pandas.core.frame.DataFrame'>\n",
      "RangeIndex: 100000 entries, 0 to 99999\n",
      "Data columns (total 5 columns):\n",
      " #   Column   Non-Null Count   Dtype  \n",
      "---  ------   --------------   -----  \n",
      " 0   id       100000 non-null  object \n",
      " 1   f0       100000 non-null  float64\n",
      " 2   f1       100000 non-null  float64\n",
      " 3   f2       100000 non-null  float64\n",
      " 4   product  100000 non-null  float64\n",
      "dtypes: float64(4), object(1)\n",
      "memory usage: 3.8+ MB\n",
      "      id        f0        f1        f2     product\n",
      "0  txEyH  0.705745 -0.497823  1.221170  105.280062\n",
      "1  2acmU  1.334711 -0.340164  4.365080   73.037750\n",
      "2  409Wp  1.022732  0.151990  1.419926   85.265647\n",
      "3  iJLyR -0.032172  0.139033  2.978566  168.620776\n",
      "4  Xdl7t  1.988431  0.155413  4.751769  154.036647\n"
     ]
    }
   ],
   "source": [
    "#importación librerias\n",
    "import pandas as pd\n",
    "from sklearn.model_selection import train_test_split\n",
    "from sklearn.linear_model import LinearRegression\n",
    "from sklearn.metrics import mean_squared_error\n",
    "import numpy as np\n",
    "\n",
    "# Cargar los datos\n",
    "data_0 = pd.read_csv('/datasets/geo_data_0.csv')\n",
    "data_1 = pd.read_csv('/datasets/geo_data_1.csv')\n",
    "data_2 = pd.read_csv('/datasets/geo_data_2.csv')\n",
    "\n",
    "data_0.info()\n",
    "data_1.info()\n",
    "data_2.info()\n",
    "\n",
    "print(data_0.head())"
   ]
  },
  {
   "cell_type": "markdown",
   "metadata": {},
   "source": [
    "<div class=\"alert alert-block alert-warning\"> \n",
    "<b>Comentario del Revisor #1</b> <a class=\"tocSkip\"></a>\n",
    "\n",
    "Recuerda modularizar mejor las celdas. También es una buena práctica separar el import de librerías del resto del código.\n",
    "\n",
    "</div>"
   ]
  },
  {
   "cell_type": "markdown",
   "metadata": {},
   "source": [
    "<div class=\"alert alert-block alert-success\"> \n",
    "<b>Comentario del Revisor #1</b> <a class=\"tocSkip\"></a>\n",
    "\n",
    "Muy bien hecho! Eliminaste la columna id al entrenar, que generalmente no aporta valor al modelo. Mantener solo las características relevantes es clave para mejorar el rendimiento del modelo y evitar la sobrecarga de datos innecesarios.\n",
    "\n",
    "</div>"
   ]
  },
  {
   "cell_type": "code",
   "execution_count": 2,
   "metadata": {},
   "outputs": [],
   "source": [
    "# Función para preparar los datos y entrenar el modelo\n",
    "def train_model(data):\n",
    "    # Dividir en características (X) y objetivo (y)\n",
    "    X = data[['f0', 'f1', 'f2']]\n",
    "    y = data['product']\n",
    "    \n",
    "    # Dividir en entrenamiento y validación (75:25)\n",
    "    X_train, X_val, y_train, y_val = train_test_split(X, y, test_size=0.25, random_state=42)\n",
    "    \n",
    "    # Entrenar el modelo de regresión lineal\n",
    "    model = LinearRegression()\n",
    "    model.fit(X_train, y_train)\n",
    "    \n",
    "    # Predecir en el conjunto de validación\n",
    "    y_pred = model.predict(X_val)\n",
    "    \n",
    "    # Calcular RMSE y volumen medio predicho\n",
    "    rmse = mean_squared_error(y_val, y_pred, squared=False)\n",
    "    mean_predicted_volume = y_pred.mean()\n",
    "    \n",
    "    return y_val, y_pred, rmse, mean_predicted_volume"
   ]
  },
  {
   "cell_type": "markdown",
   "metadata": {},
   "source": [
    "<div class=\"alert alert-block alert-success\"> \n",
    "<b>Comentario del Revisor #1</b> <a class=\"tocSkip\"></a>\n",
    "\n",
    "Has dividido los datos correctamente en conjuntos de entrenamiento y validación, manteniendo una proporción de 75%-25% entre los conjuntos de entrenamiento y validación. \n",
    "\n",
    "Además, entrenar un modelo separado para cada región permite capturar variaciones específicas en los datos, lo que puede mejorar la precisión de las predicciones.\n",
    "\n",
    "Finalmente, utilizaste regresión lineal como modelo, que era lo que se esperaba.\n",
    "\n",
    "</div>"
   ]
  },
  {
   "cell_type": "markdown",
   "metadata": {},
   "source": [
    "# 2. Entrenamiento de cada región"
   ]
  },
  {
   "cell_type": "code",
   "execution_count": 3,
   "metadata": {},
   "outputs": [
    {
     "name": "stdout",
     "output_type": "stream",
     "text": [
      "Región 0 - RMSE: 37.756600350261685 Volumen Medio Predicho: 92.3987999065777\n",
      "Región 1 - RMSE: 0.890280100102884 Volumen Medio Predicho: 68.71287803913762\n",
      "Región 2 - RMSE: 40.14587231134218 Volumen Medio Predicho: 94.77102387765939\n"
     ]
    }
   ],
   "source": [
    "# Entrenar el modelo para cada región\n",
    "y_val_0, y_pred_0, rmse_0, mean_vol_0 = train_model(data_0)\n",
    "y_val_1, y_pred_1, rmse_1, mean_vol_1 = train_model(data_1)\n",
    "y_val_2, y_pred_2, rmse_2, mean_vol_2 = train_model(data_2)\n",
    "\n",
    "# Mostrar resultados\n",
    "print(\"Región 0 - RMSE:\", rmse_0, \"Volumen Medio Predicho:\", mean_vol_0)\n",
    "print(\"Región 1 - RMSE:\", rmse_1, \"Volumen Medio Predicho:\", mean_vol_1)\n",
    "print(\"Región 2 - RMSE:\", rmse_2, \"Volumen Medio Predicho:\", mean_vol_2)"
   ]
  },
  {
   "cell_type": "markdown",
   "metadata": {},
   "source": [
    "<div class=\"alert alert-block alert-success\"> \n",
    "<b>Comentario del Revisor #1</b> <a class=\"tocSkip\"></a>\n",
    "\n",
    "Imprimiste las concentraciones medias y el RMSE para los modelos, lo que es esencial para evaluar su rendimiento. Estas métricas proporcionan información valiosa sobre cómo se desempeñan los modelos en diferentes regiones.\n",
    "\n",
    "</div>"
   ]
  },
  {
   "cell_type": "markdown",
   "metadata": {},
   "source": [
    "De forma preliminar se puede observar que:\n",
    "\n",
    "Región 0:\n",
    "Tiene un RMSE moderado (37.76) y un volumen medio predicho alto (92.40 miles de barriles).Es una región prometedora, pero el modelo no es tan preciso como en la Región 1.\n",
    "\n",
    "Región 1:\n",
    "Aunque el modelo es muy preciso (RMSE bajo), el volumen medio predicho es el más bajo de las tres regiones.Esto sugiere que, aunque el modelo predice con precisión, la región puede no ser la más rentable en términos de reservas de petróleo.\n",
    "\n",
    "Región 2:\n",
    "Tiene el mayor volumen medio predicho (94.77 miles de barriles), pero también el RMSE más alto (40.15).Esto indica que, aunque la región tiene un alto potencial de reservas, el modelo es menos preciso en sus predicciones.\n"
   ]
  },
  {
   "cell_type": "markdown",
   "metadata": {},
   "source": [
    "<div class=\"alert alert-block alert-success\"> \n",
    "<b>Comentario del Revisor #1</b> <a class=\"tocSkip\"></a>\n",
    "\n",
    "Correcto!\n",
    "\n",
    "</div>"
   ]
  },
  {
   "cell_type": "markdown",
   "metadata": {},
   "source": [
    "# 3. Selección pozos y cálculo de beneficios"
   ]
  },
  {
   "cell_type": "markdown",
   "metadata": {},
   "source": [
    "<div class=\"alert alert-block alert-warning\"> \n",
    "<b>Comentario del Revisor #1</b> <a class=\"tocSkip\"></a>\n",
    "\n",
    "Recuerda que en estos casos es muy útil definir constantes para valores clave como el presupuesto, el costo y la ganancia. Establecer constantes es importante para mantener la claridad y la facilidad de modificación en el código. Asegúrate de crear estas variables para un mejor manejo de los datos.\n",
    "\n",
    "En vez de hacer esto, lo defines como un valor \"default\" en la función, lo que puede no ser adecuado.\n",
    "    \n",
    "</div>"
   ]
  },
  {
   "cell_type": "code",
   "execution_count": 4,
   "metadata": {},
   "outputs": [
    {
     "name": "stdout",
     "output_type": "stream",
     "text": [
      "Beneficio Región 0: 33591411.14462179\n",
      "Beneficio Región 1: 24150866.966815114\n",
      "Beneficio Región 2: 25985717.593741104\n"
     ]
    }
   ],
   "source": [
    "# Función para calcular el beneficio\n",
    "def calculate_profit(y_pred, y_true, top_n=200, budget=100000000, revenue_per_unit=4500):\n",
    "    # Seleccionar los top_n pozos con las predicciones más altas\n",
    "    top_indices = np.argsort(y_pred)[-top_n:]\n",
    "    top_true_values = y_true.iloc[top_indices]\n",
    "    \n",
    "    # Calcular el beneficio\n",
    "    total_revenue = top_true_values.sum() * revenue_per_unit\n",
    "    profit = total_revenue - budget\n",
    "    \n",
    "    return profit\n",
    "\n",
    "# Calcular el beneficio para cada región\n",
    "profit_0 = calculate_profit(y_pred_0, y_val_0)\n",
    "profit_1 = calculate_profit(y_pred_1, y_val_1)\n",
    "profit_2 = calculate_profit(y_pred_2, y_val_2)\n",
    "\n",
    "print(\"Beneficio Región 0:\", profit_0)\n",
    "print(\"Beneficio Región 1:\", profit_1)\n",
    "print(\"Beneficio Región 2:\", profit_2)"
   ]
  },
  {
   "cell_type": "markdown",
   "metadata": {},
   "source": [
    "<div class=\"alert alert-block alert-success\"> \n",
    "<b>Comentario del Revisor #1</b> <a class=\"tocSkip\"></a>\n",
    "\n",
    "Escribiste una función para el cálculo de ganancias que tiene un algoritmo correcto y devuelve el valor esperado. \n",
    "\n",
    "Los resultados son los esperados.\n",
    "\n",
    "</div>"
   ]
  },
  {
   "cell_type": "markdown",
   "metadata": {},
   "source": [
    "La Región 0 es la más rentable en términos de beneficio ($33.59 millones).\n",
    "\n",
    "La Región 2 es una opción intermedia, con un beneficio de $25.99 millones.\n",
    "\n",
    "La Región 1 es la menos rentable, con un beneficio de $24.15 millones."
   ]
  },
  {
   "cell_type": "markdown",
   "metadata": {},
   "source": [
    "<div class=\"alert alert-block alert-warning\"> \n",
    "<b>Comentario del Revisor #1</b> <a class=\"tocSkip\"></a>\n",
    "\n",
    "<div class=\"alert alert-block alert-success\"> \n",
    "<b>Comentario del Revisor #1</b> <a class=\"tocSkip\"></a>\n",
    "\n",
    "Muy bien! Has documentado hallazgos sobre los cálculos de ganancias, lo que es crucial para entender la viabilidad del desarrollo en las regiones. Comunicar estos resultados es fundamental para la toma de decisiones.\n",
    "\n",
    "</div>\n",
    "    \n",
    "Parece que no calculaste la cantidad media mínima de producto por ubicación. Este cálculo es crucial para evaluar la factibilidad del desarrollo. Con esta, verías que ninguna región alcanza el umbral esperado. \n",
    "\n",
    "</div>"
   ]
  },
  {
   "cell_type": "markdown",
   "metadata": {},
   "source": [
    "# 4. Cálculo de riesgos y beneficios con Bootstraping"
   ]
  },
  {
   "cell_type": "markdown",
   "metadata": {},
   "source": [
    "Condiciones del problema:\n",
    "\n",
    "•\tEl presupuesto para el desarrollo de 200 pozos petroleros es de 100 millones de dólares.\n",
    "\n",
    "•\tUn barril de materias primas genera 4.5 USD de ingresos. El ingreso de una unidad de producto es de 4500 dólares (el volumen de reservas está expresado en miles de barriles).\n",
    "\n",
    "•\tDespués de la evaluación de riesgo, mantén solo las regiones con riesgo de pérdidas inferior al 2.5%. De las que se ajustan a los criterios, se debe seleccionar la región con el beneficio promedio más alto."
   ]
  },
  {
   "cell_type": "code",
   "execution_count": 5,
   "metadata": {},
   "outputs": [
    {
     "name": "stdout",
     "output_type": "stream",
     "text": [
      "Región 0 - Beneficio Medio: 33710857.63143414 Intervalo de Confianza: [30305823.7689855  37213483.06833734] Riesgo de Pérdidas: 0.0\n",
      "Región 1 - Beneficio Medio: 24150866.966815118 Intervalo de Confianza: [24150866.96681511 24150866.96681511] Riesgo de Pérdidas: 0.0\n",
      "Región 2 - Beneficio Medio: 25618529.56025515 Intervalo de Confianza: [21815359.33122263 29210800.55351349] Riesgo de Pérdidas: 0.0\n"
     ]
    }
   ],
   "source": [
    "# Función para bootstrapping\n",
    "def bootstrap_profit(y_pred, y_true, n_samples=1000, top_n=200, budget=100000000, revenue_per_unit=4500):\n",
    "    profits = []\n",
    "    for _ in range(n_samples):\n",
    "        # Muestrear con reemplazo\n",
    "        sample_indices = np.random.choice(len(y_pred), size=len(y_pred), replace=True)\n",
    "        y_pred_sample = y_pred[sample_indices]\n",
    "        y_true_sample = y_true.iloc[sample_indices]\n",
    "        \n",
    "        # Calcular el beneficio para la muestra\n",
    "        profit = calculate_profit(y_pred_sample, y_true_sample, top_n, budget, revenue_per_unit)\n",
    "        profits.append(profit)\n",
    "    \n",
    "    # Calcular estadísticas\n",
    "    mean_profit = np.mean(profits)\n",
    "    confidence_interval = np.percentile(profits, [2.5, 97.5]) # intervalo de confianza del 95%\n",
    "    risk_of_loss = np.mean(np.array(profits) < 0) * 100\n",
    "    \n",
    "    return mean_profit, confidence_interval, risk_of_loss\n",
    "\n",
    "# Aplicar bootstrapping a cada región\n",
    "mean_profit_0, ci_0, risk_0 = bootstrap_profit(y_pred_0, y_val_0)\n",
    "mean_profit_1, ci_1, risk_1 = bootstrap_profit(y_pred_1, y_val_1)\n",
    "mean_profit_2, ci_2, risk_2 = bootstrap_profit(y_pred_2, y_val_2)\n",
    "\n",
    "# Mostrar resultados\n",
    "print(\"Región 0 - Beneficio Medio:\", mean_profit_0, \"Intervalo de Confianza:\", ci_0, \"Riesgo de Pérdidas:\", risk_0)\n",
    "print(\"Región 1 - Beneficio Medio:\", mean_profit_1, \"Intervalo de Confianza:\", ci_1, \"Riesgo de Pérdidas:\", risk_1)\n",
    "print(\"Región 2 - Beneficio Medio:\", mean_profit_2, \"Intervalo de Confianza:\", ci_2, \"Riesgo de Pérdidas:\", risk_2)"
   ]
  },
  {
   "cell_type": "markdown",
   "metadata": {},
   "source": [
    "<div class=\"alert alert-block alert-success\"> \n",
    "<b>Comentario del Revisor #1</b> <a class=\"tocSkip\"></a>\n",
    "\n",
    "Excelente! Has implementado Bootstrap, y realizaste el muestreo con reemplazo. Estas prácticas son esenciales para estimar la variabilidad de tus estimaciones y para construir intervalos de confianza. ¡Gran trabajo!\n",
    "\n",
    "</div>"
   ]
  },
  {
   "cell_type": "code",
   "execution_count": 9,
   "metadata": {},
   "outputs": [
    {
     "data": {
      "image/png": "[encoded data removed]",
      "text/plain": [
       "<Figure size 1000x500 with 1 Axes>"
      ]
     },
     "metadata": {},
     "output_type": "display_data"
    }
   ],
   "source": [
    "import matplotlib.pyplot as plt\n",
    "import numpy as np\n",
    "\n",
    "# Datos de las regiones\n",
    "regions = ['Región 0', 'Región 1', 'Región 2']\n",
    "mean_profits = [mean_profit_0, mean_profit_1, mean_profit_2]\n",
    "confidence_intervals = [ci_0, ci_1, ci_2]\n",
    "risks_of_loss = [risk_0, risk_1, risk_2]\n",
    "\n",
    "# Gráfico de Barras para el Beneficio Medio\n",
    "plt.figure(figsize=(10, 5))\n",
    "plt.bar(regions, mean_profits, color=['blue', 'green', 'orange'])\n",
    "plt.title('Beneficio Medio por Región')\n",
    "plt.xlabel('Región')\n",
    "plt.ylabel('Beneficio Medio (USD)')\n",
    "plt.grid(axis='y', linestyle='--', alpha=0.7)\n",
    "plt.show()\n"
   ]
  },
  {
   "cell_type": "markdown",
   "metadata": {},
   "source": [
    "<div class=\"alert alert-block alert-success\"> \n",
    "<b>Comentario del Revisor #1</b> <a class=\"tocSkip\"></a>\n",
    "\n",
    "Los resultados se muestran de forma clara.\n",
    "\n",
    "</div>"
   ]
  },
  {
   "cell_type": "markdown",
   "metadata": {},
   "source": [
    "Recomendación Final\n",
    "\n",
    "Seleccionar la Región 0:\n",
    "\n",
    "Es la región con el mayor beneficio medio ($33.71 millones).\n",
    "El intervalo de confianza garantiza que el beneficio estará en un rango alto (30.31 a 37.21 millones).\n",
    "\n",
    "Justificación:\n",
    "La Región 0 cumple con todos los criterios: maximiza el beneficio, minimiza el riesgo y ofrece un rango de beneficios confiable."
   ]
  },
  {
   "cell_type": "markdown",
   "metadata": {},
   "source": [
    "<div class=\"alert alert-block alert-success\"> \n",
    "<b>Comentario del Revisor #1</b> <a class=\"tocSkip\"></a>\n",
    "\n",
    "Muy bien! Has sugerido correctamente una región para el desarrollo, lo que es clave para la planificación estratégica. \n",
    "\n",
    "</div>"
   ]
  }
 ],
 "metadata": {
  "ExecuteTimeLog": [
   {
    "duration": 1264,
    "start_time": "2025-03-18T15:58:37.143Z"
   },
   {
    "duration": 6,
    "start_time": "2025-03-18T15:59:26.234Z"
   },
   {
    "duration": 161,
    "start_time": "2025-03-18T16:02:34.071Z"
   },
   {
    "duration": 173,
    "start_time": "2025-03-18T19:10:37.512Z"
   },
   {
    "duration": 1196,
    "start_time": "2025-03-18T19:11:03.257Z"
   },
   {
    "duration": 6,
    "start_time": "2025-03-18T19:11:04.455Z"
   },
   {
    "duration": 70,
    "start_time": "2025-03-18T19:11:04.462Z"
   },
   {
    "duration": 84,
    "start_time": "2025-03-18T19:11:04.534Z"
   },
   {
    "duration": 7548,
    "start_time": "2025-03-18T19:13:42.752Z"
   },
   {
    "duration": 259,
    "start_time": "2025-03-18T19:20:23.834Z"
   },
   {
    "duration": 10,
    "start_time": "2025-03-18T19:49:21.754Z"
   },
   {
    "duration": 2785,
    "start_time": "2025-03-18T19:50:28.548Z"
   },
   {
    "duration": 112,
    "start_time": "2025-03-18T19:51:00.285Z"
   },
   {
    "duration": 7,
    "start_time": "2025-03-19T14:11:53.285Z"
   }
  ],
  "kernelspec": {
   "display_name": "Python 3 (ipykernel)",
   "language": "python",
   "name": "python3"
  },
  "language_info": {
   "codemirror_mode": {
    "name": "ipython",
    "version": 3
   },
   "file_extension": ".py",
   "mimetype": "text/x-python",
   "name": "python",
   "nbconvert_exporter": "python",
   "pygments_lexer": "ipython3",
   "version": "3.9.19"
  },
  "toc": {
   "base_numbering": 1,
   "nav_menu": {},
   "number_sections": true,
   "sideBar": true,
   "skip_h1_title": true,
   "title_cell": "Table of Contents",
   "title_sidebar": "Contents",
   "toc_cell": false,
   "toc_position": {},
   "toc_section_display": true,
   "toc_window_display": false
  }
 },
 "nbformat": 4,
 "nbformat_minor": 2
}
